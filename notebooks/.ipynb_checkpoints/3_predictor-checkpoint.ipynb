{
 "cells": [
  {
   "cell_type": "code",
   "execution_count": 5,
   "id": "7f81f047-e13a-445d-8a4b-255a4a09831d",
   "metadata": {},
   "outputs": [
    {
     "name": "stderr",
     "output_type": "stream",
     "text": [
      "WARNING:absl:Compiled the loaded model, but the compiled metrics have yet to be built. `model.compile_metrics` will be empty until you train or evaluate the model.\n",
      "WARNING:absl:Error in loading the saved optimizer state. As a result, your model is starting with a freshly initialized optimizer.\n"
     ]
    },
    {
     "name": "stdout",
     "output_type": "stream",
     "text": [
      "\u001b[1m1/1\u001b[0m \u001b[32m━━━━━━━━━━━━━━━━━━━━\u001b[0m\u001b[37m\u001b[0m \u001b[1m1s\u001b[0m 796ms/step\n",
      "The model predicts the class as: nv\n"
     ]
    }
   ],
   "source": [
    "import pandas as pd\n",
    "import numpy as np\n",
    "from PIL import Image\n",
    "from tensorflow.keras import layers, Model\n",
    "from tensorflow.keras.models import load_model\n",
    "\n",
    "# Function to process the image\n",
    "def process_image(image_path):\n",
    "    # Load the image\n",
    "    img = Image.open(image_path)\n",
    "    \n",
    "    # Resize the image to 28x28\n",
    "    img = img.resize((28, 28))\n",
    "    \n",
    "    # Convert the image to a numpy array\n",
    "    img_array = np.array(img)\n",
    "    \n",
    "    # Flatten the image array into a 1D array of shape (2352,)\n",
    "    # First 784 values for Red, next 784 for Green, and last 784 for Blue\n",
    "    r = img_array[:, :, 0].flatten()  # Red channel\n",
    "    g = img_array[:, :, 1].flatten()  # Green channel\n",
    "    b = img_array[:, :, 2].flatten()  # Blue channel\n",
    "    \n",
    "    # Concatenate the three channels into a single 1D array\n",
    "    flat_image = np.concatenate([r, g, b])\n",
    "    \n",
    "    return flat_image\n",
    "\n",
    "# Assuming you already have the label mappings and model loaded\n",
    "label_mapping = {'male': 0, 'female': 1, 'unknown': 2}\n",
    "localization_mapping = {\n",
    "    'scalp': 0, 'ear': 1, 'face': 2, 'back': 3, 'trunk': 4, 'chest': 5,\n",
    "    'upper extremity': 6, 'abdomen': 7, 'unknown': 8, 'lower extremity': 9,\n",
    "    'genital': 10, 'neck': 11, 'hand': 12, 'foot': 13, 'acral': 14\n",
    "}\n",
    "dx_mapping = {\n",
    "    0: 'bkl', 1: 'nv', 2: 'df', 3: 'mel', 4: 'vasc', 5: 'bcc', 6: 'akiec'\n",
    "}\n",
    "\n",
    "# Load the trained model\n",
    "model = load_model('F:/new/skin_lesion_classifier.h5')\n",
    "\n",
    "# Example: New data\n",
    "new_image_path = 'G:/My Drive/new/data/HAM10000_images_part_2\\ISIC_0032417.jpg'\n",
    "new_sex = 'male'  # or 'female', 'unknown'\n",
    "new_localization = 'trunk'  # e.g., 'scalp', 'ear', etc.\n",
    "new_age = 70  # Example age\n",
    "\n",
    "# Process the new image\n",
    "flat_image = process_image(new_image_path)\n",
    "\n",
    "# Normalize and reshape the image for the model\n",
    "flat_image = np.array(flat_image).reshape(-1, 28, 28, 3)\n",
    "flat_image = (flat_image - np.mean(flat_image)) / np.std(flat_image)\n",
    "\n",
    "# Process the non-image data\n",
    "new_sex_encoded = label_mapping[new_sex]\n",
    "new_localization_encoded = localization_mapping[new_localization]\n",
    "\n",
    "# Combine the non-image data into an array\n",
    "non_image_data = np.array([new_sex_encoded, new_localization_encoded, new_age]).reshape(1, -1)\n",
    "non_image_data = np.nan_to_num(non_image_data, nan=-1)\n",
    "\n",
    "# Make the prediction\n",
    "prediction = model.predict([flat_image, non_image_data])\n",
    "predicted_class = np.argmax(prediction, axis=1)[0]\n",
    "\n",
    "# Map the predicted class back to the original label\n",
    "predicted_label = dx_mapping[predicted_class]\n",
    "\n",
    "# Output the result\n",
    "print(f\"The model predicts the class as: {predicted_label}\")\n"
   ]
  },
  {
   "cell_type": "code",
   "execution_count": null,
   "id": "f133eeb6-a4fa-411b-a9d8-a9f77c7a68d5",
   "metadata": {},
   "outputs": [],
   "source": []
  },
  {
   "cell_type": "code",
   "execution_count": null,
   "id": "faec0e52-5eaf-4821-a3a0-2e9da4b2e56c",
   "metadata": {},
   "outputs": [],
   "source": []
  },
  {
   "cell_type": "code",
   "execution_count": null,
   "id": "1d82b05f-b696-404c-a07a-e6d0fa62aa75",
   "metadata": {},
   "outputs": [],
   "source": []
  },
  {
   "cell_type": "code",
   "execution_count": null,
   "id": "35d8d66a-7986-4353-99ee-4cfd7302b348",
   "metadata": {},
   "outputs": [],
   "source": []
  },
  {
   "cell_type": "code",
   "execution_count": null,
   "id": "fd83bf5c-c9b3-4f7f-a199-ce9a5ad89eb0",
   "metadata": {},
   "outputs": [],
   "source": []
  }
 ],
 "metadata": {
  "kernelspec": {
   "display_name": "Python 3 (ipykernel)",
   "language": "python",
   "name": "python3"
  },
  "language_info": {
   "codemirror_mode": {
    "name": "ipython",
    "version": 3
   },
   "file_extension": ".py",
   "mimetype": "text/x-python",
   "name": "python",
   "nbconvert_exporter": "python",
   "pygments_lexer": "ipython3",
   "version": "3.12.4"
  }
 },
 "nbformat": 4,
 "nbformat_minor": 5
}
